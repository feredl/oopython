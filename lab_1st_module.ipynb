{
 "cells": [
  {
   "cell_type": "code",
   "execution_count": 376,
   "id": "82c7f9b8",
   "metadata": {},
   "outputs": [],
   "source": [
    "#габариты и координаты (в см)\n",
    "from typing import Union\n",
    "\n",
    "class Coords:\n",
    "    def __init__(self, x: Union[int, float], y: Union[int, float], z: Union[int, float]):\n",
    "        self.x = x\n",
    "        self.y = y\n",
    "        self.z = z\n",
    "        \n",
    "    def __str__(self):  \n",
    "        return \"(x:% s y:% s z:% s)\" % (self.x, self.y, self.z)  #подумать над разделением"
   ]
  },
  {
   "cell_type": "code",
   "execution_count": 377,
   "id": "7bd1269a",
   "metadata": {},
   "outputs": [
    {
     "name": "stdout",
     "output_type": "stream",
     "text": [
      "(x:f y:2 z:3)\n"
     ]
    }
   ],
   "source": [
    "d = Coords(\"f\", 2, 3)\n",
    "print(d)"
   ]
  },
  {
   "cell_type": "code",
   "execution_count": 378,
   "id": "22786d7a",
   "metadata": {},
   "outputs": [],
   "source": [
    "# #размеры и расположение объектов\n",
    "# from dataclasses import dataclass\n",
    "\n",
    "# #координаты: середина дна гарнитура \n",
    "# #габариты: x - длина, y - высота, z - ширина \n",
    "\n",
    "# @dataclass\n",
    "# class Kitchen_Object:\n",
    "#     size: Coords\n",
    "#     coords: Coords\n",
    "    "
   ]
  },
  {
   "cell_type": "code",
   "execution_count": 379,
   "id": "4aa7c74e",
   "metadata": {},
   "outputs": [],
   "source": [
    "#размеры и расположение объектов\n",
    "\n",
    "#координаты: середина дна гарнитура \n",
    "#габариты: x - длина, y - высота, z - ширина \n",
    "\n",
    "class Kitchen_Object:\n",
    "    def __init__(self, size: Coords, coords: Coords):\n",
    "        self.size = size\n",
    "        self.coords = coords\n",
    "    \n",
    "    #метод нахождения координат двух углов дна гарнитура (на одной из диагонали)\n",
    "    @classmethod\n",
    "    def corner_coords(self, size, coords):\n",
    "        x = [coords.x - size.x/2, coords.z + size.z/2]\n",
    "        z = [coords.x + size.x/2, coords.z - size.z/2]\n",
    "        return x, z\n",
    "\n",
    "#перенести сюда эти методы из класса Cabinet\n",
    "#     def __if_bottom_overlap()\n",
    "#     def __if_height_overlap()\n",
    "#     def if_overlap()"
   ]
  },
  {
   "cell_type": "code",
   "execution_count": 380,
   "id": "b80f1ad3",
   "metadata": {},
   "outputs": [],
   "source": [
    "from typing import Union\n",
    "\n",
    "#пусть координаты - середина дна кухонного шкафа\n",
    "\n",
    "class Cabinet(Kitchen_Object):\n",
    "    def __init__(self, material, size, coords):\n",
    "        super().__init__(size, coords)\n",
    "        self.material = material\n",
    "        \n",
    "    def __repr__(self):  \n",
    "        return \"Cabinet(material: % s, size: % s, coords: % s)\" % (self.material, self.size, self.coords) \n",
    "\n",
    "    @property\n",
    "    def material(self):\n",
    "        return self.__material\n",
    "    \n",
    "    @material.setter \n",
    "    def material(self, material: Union[str, int]):\n",
    "        self.__material = material\n",
    "        \n",
    "# метод проверки на пересечение с другим шкаформ в параллелепипеде кухни\n",
    "# NB: будем считать, что шкафы могут стоять только параллельно стенам кухни\n",
    "    def __height_overlap(self, cabinet1: Cabinet, cabinet2: Cabinet):\n",
    "        height1 = cabinet1.size.y\n",
    "        height2 = cabinet2.size.y\n",
    "        y1 = cabinet1.coords.y\n",
    "        y2 = cabinet2.coords.y\n",
    "        if y1 + height1 < y2:\n",
    "            return False\n",
    "        if y2 + height2 < y1:\n",
    "            return False \n",
    "        return True\n",
    "     \n",
    "    def __bottom_overlap(self, cabinet1: Cabinet, cabinet2: Cabinet):\n",
    "        coords1 = Kitchen_Object.corner_coords(cabinet1.size, cabinet1.coords) # координаты по обеим концам диагонали\n",
    "        top1 = coords1[0] # координаты верхней точки (x;z)\n",
    "        bottom1 = coords1[1] # координаты нижней точки (x;z)\n",
    "        coords2 = Kitchen_Object.corner_coords(cabinet2.size, cabinet2.coords)\n",
    "        top2 = coords2[0]\n",
    "        bottom2 = coords2[1]\n",
    "        if top1[0] == bottom1[0] or top1[1] == bottom1[1] or top2[0] == bottom2[0] or top2[1] == bottom2[1]: #площадь 0\n",
    "            return False\n",
    "        if top1[0] > bottom2[0] or top2[0] >  bottom1[0]: #\n",
    "            return False\n",
    "        if bottom1[1] > top2[0] or bottom2[1] > top1[1]:\n",
    "            return False\n",
    "        return True\n",
    "    \n",
    "    @classmethod\n",
    "    def overlap(self, cabinet1: Cabinet, cabinet2: Cabinet):\n",
    "        if self.__bottom_overlap(cabinet1, cabinet2) == False:\n",
    "            return False\n",
    "        if self.__height_overlap(cabinet1, cabinet2):\n",
    "            return True"
   ]
  },
  {
   "cell_type": "code",
   "execution_count": 385,
   "id": "1b00c883",
   "metadata": {},
   "outputs": [
    {
     "ename": "TypeError",
     "evalue": "__bottom_overlap() missing 1 required positional argument: 'cabinet2'",
     "output_type": "error",
     "traceback": [
      "\u001b[1;31m---------------------------------------------------------------------------\u001b[0m",
      "\u001b[1;31mTypeError\u001b[0m                                 Traceback (most recent call last)",
      "Input \u001b[1;32mIn [385]\u001b[0m, in \u001b[0;36m<cell line: 4>\u001b[1;34m()\u001b[0m\n\u001b[0;32m      2\u001b[0m cab1 \u001b[38;5;241m=\u001b[39m Cabinet(\u001b[38;5;124m\"\u001b[39m\u001b[38;5;124mwood\u001b[39m\u001b[38;5;124m\"\u001b[39m, Coords(\u001b[38;5;241m3\u001b[39m,\u001b[38;5;241m2\u001b[39m,\u001b[38;5;241m4\u001b[39m), Coords(\u001b[38;5;241m4\u001b[39m,\u001b[38;5;241m5\u001b[39m,\u001b[38;5;241m6\u001b[39m))\n\u001b[0;32m      3\u001b[0m cab1\u001b[38;5;241m.\u001b[39msize\u001b[38;5;241m.\u001b[39mz\n\u001b[1;32m----> 4\u001b[0m \u001b[43mCabinet\u001b[49m\u001b[38;5;241;43m.\u001b[39;49m\u001b[43moverlap\u001b[49m\u001b[43m(\u001b[49m\u001b[43mcab1\u001b[49m\u001b[43m,\u001b[49m\u001b[43m \u001b[49m\u001b[43mcab1\u001b[49m\u001b[43m)\u001b[49m\n",
      "Input \u001b[1;32mIn [380]\u001b[0m, in \u001b[0;36mCabinet.overlap\u001b[1;34m(self, cabinet1, cabinet2)\u001b[0m\n\u001b[0;32m     49\u001b[0m \u001b[38;5;129m@classmethod\u001b[39m\n\u001b[0;32m     50\u001b[0m \u001b[38;5;28;01mdef\u001b[39;00m \u001b[38;5;21moverlap\u001b[39m(\u001b[38;5;28mself\u001b[39m, cabinet1: Cabinet, cabinet2: Cabinet):\n\u001b[1;32m---> 51\u001b[0m     \u001b[38;5;28;01mif\u001b[39;00m \u001b[38;5;28;43mself\u001b[39;49m\u001b[38;5;241;43m.\u001b[39;49m\u001b[43m__bottom_overlap\u001b[49m\u001b[43m(\u001b[49m\u001b[43mcabinet1\u001b[49m\u001b[43m,\u001b[49m\u001b[43m \u001b[49m\u001b[43mcabinet2\u001b[49m\u001b[43m)\u001b[49m \u001b[38;5;241m==\u001b[39m \u001b[38;5;28;01mFalse\u001b[39;00m:\n\u001b[0;32m     52\u001b[0m         \u001b[38;5;28;01mreturn\u001b[39;00m \u001b[38;5;28;01mFalse\u001b[39;00m\n\u001b[0;32m     53\u001b[0m     \u001b[38;5;28;01mif\u001b[39;00m \u001b[38;5;28mself\u001b[39m\u001b[38;5;241m.\u001b[39m__height_overlap(cabinet1, cabinet2):\n",
      "\u001b[1;31mTypeError\u001b[0m: __bottom_overlap() missing 1 required positional argument: 'cabinet2'"
     ]
    }
   ],
   "source": [
    "cab1 = Cabinet(\"wood\", Coords(3,2,4), Coords(4,5,6))\n",
    "cab1 = Cabinet(\"wood\", Coords(3,2,4), Coords(4,5,6))\n",
    "cab1.size.z\n",
    "Cabinet.overlap(cab1, cab1)"
   ]
  },
  {
   "cell_type": "code",
   "execution_count": 260,
   "id": "f286e69b",
   "metadata": {},
   "outputs": [],
   "source": [
    "class Appliance(Kitchen_Object):\n",
    "    def __init__(self, name, size, coords):\n",
    "        super().__init__(size, coords)\n",
    "        self.__name = name\n",
    "\n",
    "    @property\n",
    "    def name(self):\n",
    "        return self.__name\n",
    "    \n",
    "    @name.setter \n",
    "    def name(self, name: Union[str, int]):\n",
    "        self.__name = name"
   ]
  },
  {
   "cell_type": "code",
   "execution_count": 369,
   "id": "fd3d2e1c",
   "metadata": {},
   "outputs": [],
   "source": [
    "class Kitchen:\n",
    "    pass\n",
    "    "
   ]
  },
  {
   "cell_type": "code",
   "execution_count": 6,
   "id": "6852e7bc",
   "metadata": {},
   "outputs": [],
   "source": []
  },
  {
   "cell_type": "code",
   "execution_count": null,
   "id": "3c07d546",
   "metadata": {},
   "outputs": [],
   "source": []
  },
  {
   "cell_type": "code",
   "execution_count": null,
   "id": "3724a836",
   "metadata": {},
   "outputs": [],
   "source": []
  }
 ],
 "metadata": {
  "kernelspec": {
   "display_name": "Python 3 (ipykernel)",
   "language": "python",
   "name": "python3"
  },
  "language_info": {
   "codemirror_mode": {
    "name": "ipython",
    "version": 3
   },
   "file_extension": ".py",
   "mimetype": "text/x-python",
   "name": "python",
   "nbconvert_exporter": "python",
   "pygments_lexer": "ipython3",
   "version": "3.8.0"
  }
 },
 "nbformat": 4,
 "nbformat_minor": 5
}
