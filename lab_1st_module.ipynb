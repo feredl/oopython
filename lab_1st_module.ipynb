{
 "cells": [
  {
   "cell_type": "markdown",
   "id": "da9c9135",
   "metadata": {},
   "source": [
    "## Лабораторная работа 1 модуль\n",
    "### Ксения Анисимова ЦМГН \n",
    "#### Вариант 14"
   ]
  },
  {
   "cell_type": "markdown",
   "id": "f8fe3e8d",
   "metadata": {},
   "source": [
    "### Класс для габаритов и координат (в см)"
   ]
  },
  {
   "cell_type": "code",
   "execution_count": 391,
   "id": "12ae50c0",
   "metadata": {},
   "outputs": [],
   "source": [
    "from typing import Union\n",
    "\n",
    "class Coords:\n",
    "    def __init__(self, x: Union[int, float], y: Union[int, float], z: Union[int, float]):\n",
    "        self.x = x\n",
    "        self.y = y\n",
    "        self.z = z\n",
    "        \n",
    "    def __str__(self):  \n",
    "        return \"(x-%s; y-%s; z-%s)\" % (self.x, self.y, self.z)  #подумать над разделением"
   ]
  },
  {
   "cell_type": "code",
   "execution_count": 387,
   "id": "7bd1269a",
   "metadata": {},
   "outputs": [
    {
     "name": "stdout",
     "output_type": "stream",
     "text": [
      "(x-1; y-2; z-3)\n"
     ]
    }
   ],
   "source": [
    "d = Coords(1, 2, 3)\n",
    "print(d)"
   ]
  },
  {
   "cell_type": "markdown",
   "id": "bee1720f",
   "metadata": {},
   "source": [
    "### Класс кухонного объета: \n",
    "**Координаты**: середина дна гарнитура  \n",
    "**Габариты**: x - длина, y - высота, z - ширина  \n",
    "**Методы проверки пересечения**"
   ]
  },
  {
   "cell_type": "code",
   "execution_count": 399,
   "id": "4aa7c74e",
   "metadata": {},
   "outputs": [],
   "source": [
    "class Kitchen_Object:\n",
    "    def __init__(self, size: Coords, coords: Coords):\n",
    "        self.size = size\n",
    "        self.coords = coords\n",
    "    \n",
    "    #метод нахождения координат двух углов проекции (дна) объекта (на одной из диагонали)\n",
    "    @classmethod\n",
    "    def corner_coords(self, size, coords):\n",
    "        x = [coords.x - size.x/2, coords.z + size.z/2]\n",
    "        z = [coords.x + size.x/2, coords.z - size.z/2]\n",
    "        return x, z\n",
    "    \n",
    "    #координаты середины сторон гарнитура (без высоты) - для проверки, приставлен ли объект к стене \n",
    "#     @classmethod\n",
    "#     def middle_coords(self, size, coords):\n",
    "#         a = [coords.x - size.x/2, coords.z]\n",
    "#         b = [coords.x, coords.z + size.z/2]\n",
    "#         c = [coords.x + size.x/2, coords.z]\n",
    "#         d = [coords.x, coords.z - size.z/2]\n",
    "#         return [a, b, c, d]\n",
    "    \n",
    "    #проверка пересечения проекций \n",
    "    @classmethod\n",
    "    def _bottom_overlap(cls, size1, size2, coords1, coords2):\n",
    "        coords1 = Kitchen_Object.corner_coords(size1, coords1) # координаты по обеим концам диагонали\n",
    "        top1, bottom1 = coords1[0], coords1[1] # координаты \"верхней\" и \"нижней\" точки проекции гарнитура(x;z)\n",
    "        coords2 = Kitchen_Object.corner_coords(size2, coords2)\n",
    "        top2, bottom2 = coords2[0], coords2[1]\n",
    "        if top1[0] == bottom1[0] or top1[1] == bottom1[1] or top2[0] == bottom2[0] or top2[1] == bottom2[1]: #площадь 0\n",
    "            return False\n",
    "        if top1[0] > bottom2[0] or top2[0] >  bottom1[0]: #слева/справа\n",
    "            return False\n",
    "        if bottom1[1] > top2[1] or bottom2[1] > top1[1]: #сверху/снизу \n",
    "            return False\n",
    "        return True\n",
    "    \n",
    "    #проверка пересечения по высоте\n",
    "    def _height_overlap(self, size1, size2, coords1, coords2):\n",
    "        height1 = size1.y #\n",
    "        height2 = size2.y\n",
    "        y1 = coords1.y\n",
    "        y2 = coords2.y\n",
    "        if y1 + height1 < y2:\n",
    "            return False\n",
    "        if y2 + height2 < y1:\n",
    "            return False \n",
    "        return True\n",
    "    \n",
    "    @classmethod\n",
    "    def overlap(self, object1, object2):\n",
    "        if self._bottom_overlap(object1.size, object2.size, object1.coords, object2.coords) == False:\n",
    "            return False\n",
    "        if self._height_overlap(self, object1.size, object2.size, object1.coords, object2.coords):\n",
    "            return True"
   ]
  },
  {
   "cell_type": "markdown",
   "id": "3e0cc038",
   "metadata": {},
   "source": [
    "### Класс шкафа: \n",
    "**Координаты и габариты** - наследованы от Kitchen_Object \\\n",
    "Материал сделан приватным из житейской логики"
   ]
  },
  {
   "cell_type": "code",
   "execution_count": 423,
   "id": "b80f1ad3",
   "metadata": {},
   "outputs": [],
   "source": [
    "from typing import Union\n",
    "\n",
    "class Cabinet(Kitchen_Object):\n",
    "    def __init__(self, material, size, coords):\n",
    "        super().__init__(size, coords)\n",
    "        self.material = material\n",
    "\n",
    "    def __repr__(self):  \n",
    "        return \"Cabinet: material - %s, size%s, coordinates%s)\" % (self.material, self.size, self.coords)\n",
    "\n",
    "    @property\n",
    "    def material(self):\n",
    "        return self.__material\n",
    "    \n",
    "    @material.setter \n",
    "    def material(self, material: Union[str, int]):\n",
    "        self.__material = material"
   ]
  },
  {
   "cell_type": "code",
   "execution_count": 424,
   "id": "1b00c883",
   "metadata": {},
   "outputs": [
    {
     "name": "stdout",
     "output_type": "stream",
     "text": [
      "Cabinet: material - wood, size(x-50; y-100; z-50), coordinates(x-25; y-0; z-25))\n",
      "Cabinet: material - oak, size(x-30; y-50; z-30), coordinates(x-25; y-10; z-100))\n",
      "Cabinet: material - birch, size(x-30; y-50; z-30), coordinates(x-25; y-10; z-50))\n",
      "False\n",
      "True\n"
     ]
    }
   ],
   "source": [
    "cab1 = Cabinet(\"wood\", Coords(50,100,50), Coords(25,0,25))\n",
    "cab2 = Cabinet(\"oak\", Coords(30,50,30), Coords(25,10,100))\n",
    "cab3 = Cabinet(\"birch\", Coords(30,50,30), Coords(25,10,50))\n",
    "print(cab1, cab2, cab3, sep=\"\\n\")\n",
    "print(Kitchen_Object.overlap(cab1, cab2))\n",
    "print(Kitchen_Object.overlap(cab1, cab3))"
   ]
  },
  {
   "cell_type": "markdown",
   "id": "bf035b2d",
   "metadata": {},
   "source": [
    "### Класс техники: \n",
    "**Координаты и габариты** - наследованы от Kitchen_Object  \n",
    "Имя сделано приватным из житейской логики  \n",
    "Необходимость и смысл метода включения и выключения техники неясны, поэтому он не реализован"
   ]
  },
  {
   "cell_type": "code",
   "execution_count": 432,
   "id": "f286e69b",
   "metadata": {},
   "outputs": [],
   "source": [
    "class Appliance(Kitchen_Object):\n",
    "    def __init__(self, name, size, coords):\n",
    "        super().__init__(size, coords)\n",
    "        self.__name = name\n",
    "\n",
    "    @property\n",
    "    def name(self):\n",
    "        return self.__name\n",
    "    \n",
    "    @name.setter \n",
    "    def name(self, name: Union[str, int]):\n",
    "        self.__name = name\n",
    "\n",
    "    def __repr__(self):  \n",
    "        return  \"Appliance: name - %s, size%s, coordinates%s)\" % (self.name, self.size, self.coords)\n",
    "    \n",
    "    #не поняла, зачем тут метод включения/выключения техники\n",
    "    def switch_on_off(self):\n",
    "        pass"
   ]
  },
  {
   "cell_type": "code",
   "execution_count": 431,
   "id": "4cb352e2",
   "metadata": {},
   "outputs": [
    {
     "name": "stdout",
     "output_type": "stream",
     "text": [
      "Appliance: name - TV, size(x-20; y-20; z-40), coordinates(x-0; y-50; z-60))\n",
      "Appliance: name - Oven, size(x-30; y-10; z-30), coordinates(x-30; y-50; z-60))\n",
      "False\n"
     ]
    }
   ],
   "source": [
    "app1 = Appliance(\"TV\", Coords(20,20,40), Coords(0,50,60))\n",
    "app2 = Appliance(\"Oven\", Coords(30,10,30), Coords(30,50,60))\n",
    "print(app1)\n",
    "print(app2)\n",
    "print(Appliance.overlap(cab1, cab2))"
   ]
  },
  {
   "cell_type": "markdown",
   "id": "f689b51a",
   "metadata": {},
   "source": [
    "### Класс кухни: \n",
    "**Габариты (х, y)** - высоту не учитываем  \n",
    "**Содержание** - список шкафов и техники"
   ]
  },
  {
   "cell_type": "code",
   "execution_count": 549,
   "id": "fd3d2e1c",
   "metadata": {},
   "outputs": [],
   "source": [
    "from collections import namedtuple\n",
    "import math\n",
    "\n",
    "kitchen_size = namedtuple('KitchenSize', ['x', 'y'])\n",
    "\n",
    "class Kitchen:\n",
    "    def __init__(self, size: kitchen_size, content: list):\n",
    "        self.__size = size\n",
    "        self.content = content \n",
    "        \n",
    "    @property\n",
    "    def size(self):\n",
    "        return self.__size\n",
    "    \n",
    "    @size.setter \n",
    "    def size(self, size: kitchen_size):\n",
    "        self.__size = size\n",
    "     \n",
    "    #def __find_appliance(self, content: list):\n",
    "    def find_appliance(self, content: list):\n",
    "        appliances = []\n",
    "        for x in content:\n",
    "            if isinstance(x, Appliance):\n",
    "                appliances.append(x)\n",
    "        return appliances\n",
    "    \n",
    "    #def __find_cabinet(self, content):\n",
    "    def find_cabinet(self, content):\n",
    "        cabinets = []\n",
    "        for x in content:\n",
    "            if isinstance(x, Cabinet):\n",
    "                cabinets.append(x)\n",
    "        return cabinets\n",
    "    \n",
    "# Метод для проверки, не висит ли техника в воздухе:\n",
    "#     - если координата по высоте = 0, то не висит\n",
    "#     - если больше нуля, то проверяем, не стоит ли техника на шкафе\n",
    "#     - пока будем считать, что техника не может висеть на стене (но есть заготовка см. класс Kitchen_Object)\n",
    "\n",
    "    def appliance_float(self):\n",
    "        res = []\n",
    "        appliance = self.find_appliance(self.content)\n",
    "        cabinets = self.find_cabinet(self.content)\n",
    "        for app in appliance:\n",
    "            if app.coords.y == 0:\n",
    "                res.append(\"%s doesn't float\" % app.name)\n",
    "            else:\n",
    "                counter = 0\n",
    "                for cab in cabinets:\n",
    "                    if Kitchen_Object._bottom_overlap(cab.size, app.size, cab.coords, app.coords) and \\\n",
    "                    app.coords.y == cab.size.y + cab.coords.y or app.coords.x == 0 or app.coords.z == 0:\n",
    "                        counter = counter + 1\n",
    "                if counter >= 1:\n",
    "                    res.append(\"%s doesn't float\" % app.name)\n",
    "                else:\n",
    "                    res.append(\"%s floats!\" % app.name)\n",
    "        return res \n",
    "    \n",
    "    def same_material_cabinets_too_close(self):\n",
    "        res = set()\n",
    "        cabinets = self.find_cabinet(self.content)\n",
    "        for i in range(0, len(cabinets), 1):\n",
    "            for j in range(0, len(cabinets), 1):\n",
    "                if cabinets[i].material == cabinets[j].material and i != j \\\n",
    "                and math.dist([cabinets[i].coords.x, cabinets[i].coords.z], [cabinets[j].coords.x, cabinets[j].coords.z]) \\\n",
    "                < 200:\n",
    "                    res.add(cabinets[i].material)\n",
    "        for x in res:\n",
    "            print(\"Cabinets of %s are too close!\" % x)\n",
    "            \n",
    "    def overlap(self):\n",
    "        counter = 0 \n",
    "        res = set()\n",
    "        for x in self.content:\n",
    "            for y in self.content:\n",
    "                if x != y and Kitchen_Object.overlap(x, y) == True:\n",
    "                    if (y, x) not in res:\n",
    "                        res.add((x, y))\n",
    "        return res"
   ]
  },
  {
   "cell_type": "code",
   "execution_count": 550,
   "id": "be642058",
   "metadata": {},
   "outputs": [],
   "source": [
    "def print_set(res):\n",
    "    for x in res:\n",
    "        print(*x, sep=\"\\n\")"
   ]
  },
  {
   "cell_type": "markdown",
   "id": "ceaca33a",
   "metadata": {},
   "source": [
    "### Создаем тестовую мебель и технику для кухни"
   ]
  },
  {
   "cell_type": "code",
   "execution_count": 562,
   "id": "6852e7bc",
   "metadata": {},
   "outputs": [],
   "source": [
    "cabinet1 = Cabinet(\"oak\", Coords(1, 3, 2), Coords(0.5, 0, 3))\n",
    "cabinet2 = Cabinet(\"oak\", Coords(2, 3, 1), Coords(2, 0, 0.5))\n",
    "appl1 = Appliance(\"TV\", Coords(1, 1, 1), Coords(2.5, 3, 0.5))\n",
    "appl2 = Appliance(\"Oven\", Coords(1, 1, 1), Coords(4.5, 3, 2.5))\n",
    "appl3 = Appliance(\"Oven2\", Coords(1, 1, 1), Coords(3, 0, 4.5))"
   ]
  },
  {
   "cell_type": "markdown",
   "id": "8ab45c6a",
   "metadata": {},
   "source": [
    "### Создаем тестовую кухню и проверяем по условиям задачи"
   ]
  },
  {
   "cell_type": "code",
   "execution_count": 565,
   "id": "b38909da",
   "metadata": {
    "scrolled": true
   },
   "outputs": [
    {
     "name": "stdout",
     "output_type": "stream",
     "text": [
      "\u001b[1m\n",
      "Appliances position:\u001b[0m\n",
      "TV doesn't float\n",
      "Oven floats!\n",
      "Oven2 doesn't float\n",
      "\u001b[1m\n",
      "Cabinets of the same material that are less than 2m close:\u001b[0m\n",
      "Cabinets of oak are too close!\n",
      "\u001b[1m\n",
      "Pieces of furniture that overlap:\u001b[0m\n",
      "Cabinet: material - oak, size(x-2; y-3; z-1), coordinates(x-2; y-0; z-0.5))\n",
      "Appliance: name - TV, size(x-1; y-1; z-1), coordinates(x-2.5; y-3; z-0.5))\n"
     ]
    }
   ],
   "source": [
    "content = [cabinet1, cabinet2, appl1, appl2, appl3]\n",
    "size = kitchen_size(100, 100)\n",
    "k = Kitchen(size, content)\n",
    "\n",
    "print(\"\\033[1m\" + \"\\nAppliances position:\" + '\\033[0m')\n",
    "print(*k.appliance_float(), sep=\"\\n\")\n",
    "\n",
    "print(\"\\033[1m\" + \"\\nCabinets of the same material that are less than 2m close:\" + '\\033[0m')\n",
    "k.same_material_cabinets_too_close()\n",
    "\n",
    "print(\"\\033[1m\" + \"\\nPieces of furniture that overlap:\" + '\\033[0m')\n",
    "print_set(k.overlap())"
   ]
  },
  {
   "cell_type": "code",
   "execution_count": null,
   "id": "4ca4a4f3",
   "metadata": {},
   "outputs": [],
   "source": []
  }
 ],
 "metadata": {
  "kernelspec": {
   "display_name": "Python 3 (ipykernel)",
   "language": "python",
   "name": "python3"
  },
  "language_info": {
   "codemirror_mode": {
    "name": "ipython",
    "version": 3
   },
   "file_extension": ".py",
   "mimetype": "text/x-python",
   "name": "python",
   "nbconvert_exporter": "python",
   "pygments_lexer": "ipython3",
   "version": "3.8.0"
  }
 },
 "nbformat": 4,
 "nbformat_minor": 5
}
