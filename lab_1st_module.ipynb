{
 "cells": [
  {
   "cell_type": "code",
   "execution_count": 37,
   "id": "82c7f9b8",
   "metadata": {},
   "outputs": [],
   "source": [
    "#габариты и координаты (в см)\n",
    "from typing import Union\n",
    "\n",
    "class Coords:\n",
    "    def __init__(self, x: Union[int, float], y: Union[int, float], z: Union[int, float]):\n",
    "        self.x = x\n",
    "        self.y = y\n",
    "        self.z = z\n",
    "        \n",
    "    def __str__(self):  \n",
    "        return \"(x:% s y:% s z:% s)\" % (self.x, self.y, self.z)  #подумать над разделением"
   ]
  },
  {
   "cell_type": "code",
   "execution_count": 38,
   "id": "7bd1269a",
   "metadata": {},
   "outputs": [
    {
     "name": "stdout",
     "output_type": "stream",
     "text": [
      "(x:f y:2 z:3)\n"
     ]
    }
   ],
   "source": [
    "d = Coords(\"f\", 2, 3)\n",
    "print(d)"
   ]
  },
  {
   "cell_type": "code",
   "execution_count": 55,
   "id": "4aa7c74e",
   "metadata": {},
   "outputs": [],
   "source": [
    "#размеры и расположение объектов\n",
    "\n",
    "#координаты: середина дна гарнитура \n",
    "#габариты: x - длина, y - высота, z - ширина \n",
    "\n",
    "class Kitchen_Object:\n",
    "    def __init__(self, size: Coords, coords: Coords):\n",
    "        self.size = size\n",
    "        self.coords = coords\n",
    "    \n",
    "    #метод нахождения координат двух углов проекции (дна) гарнитура (на одной из диагонали)\n",
    "    @classmethod\n",
    "    def corner_coords(self, size, coords):\n",
    "        x = [coords.x - size.x/2, coords.z + size.z/2]\n",
    "        z = [coords.x + size.x/2, coords.z - size.z/2]\n",
    "        return x, z\n",
    "    \n",
    "    @classmethod\n",
    "    def bottom_overlap(self, size1, size2, coords1, coords2):\n",
    "        coords1 = Kitchen_Object.corner_coords(size1, coords1) # координаты по обеим концам диагонали\n",
    "        top1, bottom1 = coords1[0], coords1[1] # координаты \"верхней\" и \"нижней\" точки проекции гарнитура(x;z)\n",
    "        coords2 = Kitchen_Object.corner_coords(size2, coords2)\n",
    "        top2, bottom2 = coords2[0], coords2[1]\n",
    "        print(top1, bottom1, top2, bottom2)\n",
    "        if top1[0] == bottom1[0] or top1[1] == bottom1[1] or top2[0] == bottom2[0] or top2[1] == bottom2[1]: #площадь 0\n",
    "            return False\n",
    "        if top1[0] > bottom2[0] or top2[0] >  bottom1[0]: #слева/справа\n",
    "            return False\n",
    "        if bottom1[1] > top2[1] or bottom2[1] > top1[1]: #сверху/снизу \n",
    "            return False\n",
    "        return True\n",
    "    \n",
    "    def _height_overlap(self, size1, size2, coords1, coords2):\n",
    "        height1 = size1.y\n",
    "        height2 = size2.y\n",
    "        y1 = coords1.y\n",
    "        y2 = coords2.y\n",
    "        if y1 + height1 < y2:\n",
    "            return False\n",
    "        if y2 + height2 < y1:\n",
    "            return False \n",
    "        return True\n",
    "    \n",
    "    @classmethod\n",
    "    def overlap(self, object1, object2):\n",
    "        if self.bottom_overlap(self, object1.size, object2.size, object1.coords, object2.coords) == False:\n",
    "            return False\n",
    "        if self._height_overlap(self, object1.size, object2.size, object1.coords, object2.coords):\n",
    "            return True\n",
    "        return \"No overlap\""
   ]
  },
  {
   "cell_type": "code",
   "execution_count": 56,
   "id": "35d58765",
   "metadata": {},
   "outputs": [
    {
     "name": "stdout",
     "output_type": "stream",
     "text": [
      "<__main__.Kitchen_Object object at 0x0000029877249F70>\n"
     ]
    }
   ],
   "source": [
    "k = Kitchen_Object((2,4,6), (3,4,5))\n",
    "print(k)"
   ]
  },
  {
   "cell_type": "code",
   "execution_count": 57,
   "id": "b80f1ad3",
   "metadata": {},
   "outputs": [],
   "source": [
    "from typing import Union\n",
    "\n",
    "#пусть координаты - середина дна кухонного шкафа\n",
    "\n",
    "class Cabinet(Kitchen_Object):\n",
    "    def __init__(self, material, size, coords):\n",
    "        super().__init__(size, coords)\n",
    "        self.material = material\n",
    "        \n",
    "    def __repr__(self):  \n",
    "        return \"Cabinet(material: % s, size: % s, coords: % s)\" % (self.material, self.size, self.coords) \n",
    "\n",
    "    @property\n",
    "    def material(self):\n",
    "        return self.__material\n",
    "    \n",
    "    @material.setter \n",
    "    def material(self, material: Union[str, int]):\n",
    "        self.__material = material\n",
    "        \n",
    "#TODO: возможно как-то переопределить (для красоты)\n",
    "#     @classmethod\n",
    "#     def overlap(self, cabinet1, cabinet2):"
   ]
  },
  {
   "cell_type": "code",
   "execution_count": 60,
   "id": "1b00c883",
   "metadata": {},
   "outputs": [
    {
     "ename": "TypeError",
     "evalue": "bottom_overlap() takes 5 positional arguments but 6 were given",
     "output_type": "error",
     "traceback": [
      "\u001b[1;31m---------------------------------------------------------------------------\u001b[0m",
      "\u001b[1;31mTypeError\u001b[0m                                 Traceback (most recent call last)",
      "Input \u001b[1;32mIn [60]\u001b[0m, in \u001b[0;36m<cell line: 4>\u001b[1;34m()\u001b[0m\n\u001b[0;32m      2\u001b[0m cab2 \u001b[38;5;241m=\u001b[39m Cabinet(\u001b[38;5;124m\"\u001b[39m\u001b[38;5;124mwood\u001b[39m\u001b[38;5;124m\"\u001b[39m, Coords(\u001b[38;5;241m3\u001b[39m,\u001b[38;5;241m2\u001b[39m,\u001b[38;5;241m4\u001b[39m), Coords(\u001b[38;5;241m3\u001b[39m,\u001b[38;5;241m5\u001b[39m,\u001b[38;5;241m6\u001b[39m))\n\u001b[0;32m      3\u001b[0m cab1\u001b[38;5;241m.\u001b[39msize\u001b[38;5;241m.\u001b[39mz\n\u001b[1;32m----> 4\u001b[0m \u001b[38;5;28mprint\u001b[39m(\u001b[43mKitchen_Object\u001b[49m\u001b[38;5;241;43m.\u001b[39;49m\u001b[43moverlap\u001b[49m\u001b[43m(\u001b[49m\u001b[43mcab1\u001b[49m\u001b[43m,\u001b[49m\u001b[43m \u001b[49m\u001b[43mcab2\u001b[49m\u001b[43m)\u001b[49m)\n",
      "Input \u001b[1;32mIn [55]\u001b[0m, in \u001b[0;36mKitchen_Object.overlap\u001b[1;34m(self, object1, object2)\u001b[0m\n\u001b[0;32m     44\u001b[0m \u001b[38;5;129m@classmethod\u001b[39m\n\u001b[0;32m     45\u001b[0m \u001b[38;5;28;01mdef\u001b[39;00m \u001b[38;5;21moverlap\u001b[39m(\u001b[38;5;28mself\u001b[39m, object1, object2):\n\u001b[1;32m---> 46\u001b[0m     \u001b[38;5;28;01mif\u001b[39;00m \u001b[38;5;28;43mself\u001b[39;49m\u001b[38;5;241;43m.\u001b[39;49m\u001b[43mbottom_overlap\u001b[49m\u001b[43m(\u001b[49m\u001b[38;5;28;43mself\u001b[39;49m\u001b[43m,\u001b[49m\u001b[43m \u001b[49m\u001b[43mobject1\u001b[49m\u001b[38;5;241;43m.\u001b[39;49m\u001b[43msize\u001b[49m\u001b[43m,\u001b[49m\u001b[43m \u001b[49m\u001b[43mobject2\u001b[49m\u001b[38;5;241;43m.\u001b[39;49m\u001b[43msize\u001b[49m\u001b[43m,\u001b[49m\u001b[43m \u001b[49m\u001b[43mobject1\u001b[49m\u001b[38;5;241;43m.\u001b[39;49m\u001b[43mcoords\u001b[49m\u001b[43m,\u001b[49m\u001b[43m \u001b[49m\u001b[43mobject2\u001b[49m\u001b[38;5;241;43m.\u001b[39;49m\u001b[43mcoords\u001b[49m\u001b[43m)\u001b[49m \u001b[38;5;241m==\u001b[39m \u001b[38;5;28;01mFalse\u001b[39;00m:\n\u001b[0;32m     47\u001b[0m         \u001b[38;5;28;01mreturn\u001b[39;00m \u001b[38;5;28;01mFalse\u001b[39;00m\n\u001b[0;32m     48\u001b[0m     \u001b[38;5;28;01mif\u001b[39;00m \u001b[38;5;28mself\u001b[39m\u001b[38;5;241m.\u001b[39m_height_overlap(\u001b[38;5;28mself\u001b[39m, object1\u001b[38;5;241m.\u001b[39msize, object2\u001b[38;5;241m.\u001b[39msize, object1\u001b[38;5;241m.\u001b[39mcoords, object2\u001b[38;5;241m.\u001b[39mcoords):\n",
      "\u001b[1;31mTypeError\u001b[0m: bottom_overlap() takes 5 positional arguments but 6 were given"
     ]
    }
   ],
   "source": [
    "cab1 = Cabinet(\"wood\", Coords(3,2,4), Coords(3,5,6))\n",
    "cab2 = Cabinet(\"wood\", Coords(3,2,4), Coords(3,5,6))\n",
    "cab1.size.z\n",
    "print(Kitchen_Object.overlap(cab1, cab2))"
   ]
  },
  {
   "cell_type": "code",
   "execution_count": 17,
   "id": "f286e69b",
   "metadata": {},
   "outputs": [],
   "source": [
    "class Appliance(Kitchen_Object):\n",
    "    def __init__(self, name, size, coords):\n",
    "        super().__init__(size, coords)\n",
    "        self.__name = name\n",
    "\n",
    "    @property\n",
    "    def name(self):\n",
    "        return self.__name\n",
    "    \n",
    "    @name.setter \n",
    "    def name(self, name: Union[str, int]):\n",
    "        self.__name = name\n",
    "        \n",
    "    #не поняла, зачем тут метод включения/выключения техники (???)"
   ]
  },
  {
   "cell_type": "code",
   "execution_count": 28,
   "id": "4cb352e2",
   "metadata": {},
   "outputs": [
    {
     "name": "stdout",
     "output_type": "stream",
     "text": [
      "[1.5, 8.0] [4.5, 4.0] [1.5, 8.0] [4.5, 4.0]\n",
      "True\n"
     ]
    },
    {
     "data": {
      "text/plain": [
       "int"
      ]
     },
     "execution_count": 28,
     "metadata": {},
     "output_type": "execute_result"
    }
   ],
   "source": [
    "app1 = Appliance(\"TV\", Coords(3,2,4), Coords(3,5,6))\n",
    "app2 = Appliance(\"Oven\", Coords(3,2,4), Coords(3,5,6))\n",
    "a = 1\n",
    "print(Appliance.overlap(cab1, cab2))\n",
    "type(app1)\n",
    "type(a)"
   ]
  },
  {
   "cell_type": "code",
   "execution_count": 29,
   "id": "0381736d",
   "metadata": {},
   "outputs": [
    {
     "data": {
      "text/plain": [
       "True"
      ]
     },
     "execution_count": 29,
     "metadata": {},
     "output_type": "execute_result"
    }
   ],
   "source": [
    "isinstance(app1, Appliance)"
   ]
  },
  {
   "cell_type": "code",
   "execution_count": 36,
   "id": "fd3d2e1c",
   "metadata": {},
   "outputs": [],
   "source": [
    "from collections import namedtuple\n",
    "\n",
    "kitchen_size = namedtuple('KitchenSize', ['x', 'y'])\n",
    "\n",
    "class Kitchen:\n",
    "    def __init__(self, size: kitchen_size, content: list):\n",
    "        self.__size = size\n",
    "        self.content = content \n",
    "        \n",
    "    @property\n",
    "    def size(self):\n",
    "        return self.__size\n",
    "    \n",
    "    @size.setter \n",
    "    def size(self, size: kitchen_size):\n",
    "        self.__size = size\n",
    "     \n",
    "    #def __find_appliance(self, content: list):\n",
    "    def find_appliance(self, content: list):\n",
    "        appliances = []\n",
    "        for x in content:\n",
    "            if isinstance(x, Appliance):\n",
    "                aplliances.append(x)\n",
    "        return appliance \n",
    "    \n",
    "    #def __find_cabinet(self, content):\n",
    "    def find_cabinet(self, content):\n",
    "        cabinets = []\n",
    "        for x in content:\n",
    "            if isinstance(x, Cabinet):\n",
    "                cabinets.append(x)\n",
    "        return cabinets\n",
    "    \n",
    "    @classmethod\n",
    "    def appliance_float(self, content):\n",
    "        counter = 0 \n",
    "        appliance = self.find_appliance(self, content)\n",
    "        cabinets = self.find_cabinet(self, content)\n",
    "        for app in appliance:\n",
    "            if app.coords.y != 0:\n",
    "                for cab in cabinets:\n",
    "                    if Kitchen.Object() and app.coords.y == cab.size.y + cab.coords.y:\n",
    "                        counter += counter\n",
    "                        \n",
    "      "
   ]
  },
  {
   "cell_type": "code",
   "execution_count": null,
   "id": "6852e7bc",
   "metadata": {},
   "outputs": [],
   "source": [
    "content = [app1, app2, cab1, cab2]"
   ]
  },
  {
   "cell_type": "code",
   "execution_count": null,
   "id": "3c07d546",
   "metadata": {},
   "outputs": [],
   "source": []
  },
  {
   "cell_type": "code",
   "execution_count": null,
   "id": "3724a836",
   "metadata": {},
   "outputs": [],
   "source": []
  }
 ],
 "metadata": {
  "kernelspec": {
   "display_name": "Python 3 (ipykernel)",
   "language": "python",
   "name": "python3"
  },
  "language_info": {
   "codemirror_mode": {
    "name": "ipython",
    "version": 3
   },
   "file_extension": ".py",
   "mimetype": "text/x-python",
   "name": "python",
   "nbconvert_exporter": "python",
   "pygments_lexer": "ipython3",
   "version": "3.8.0"
  }
 },
 "nbformat": 4,
 "nbformat_minor": 5
}
